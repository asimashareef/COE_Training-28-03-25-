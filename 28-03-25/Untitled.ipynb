{
 "cells": [
  {
   "cell_type": "code",
   "execution_count": 79,
   "id": "b047c967-2305-4403-bd99-6b74f78124b6",
   "metadata": {},
   "outputs": [],
   "source": [
    "import pandas as pd\n",
    "import numpy as np\n",
    "import matplotlib.pyplot as plt"
   ]
  },
  {
   "cell_type": "code",
   "execution_count": 81,
   "id": "828df8e9-4f65-4bfb-aaff-e0eb6cfc1f84",
   "metadata": {},
   "outputs": [],
   "source": [
    "df=pd.read_csv(r\"C:\\Users\\CVR\\Desktop\\22B81A1292\\28-03-25\\Maternal Health Risk Data Set.csv\")\n"
   ]
  },
  {
   "cell_type": "code",
   "execution_count": 83,
   "id": "a4753e69-cace-448e-be15-15123761f872",
   "metadata": {},
   "outputs": [
    {
     "data": {
      "text/html": [
       "<div>\n",
       "<style scoped>\n",
       "    .dataframe tbody tr th:only-of-type {\n",
       "        vertical-align: middle;\n",
       "    }\n",
       "\n",
       "    .dataframe tbody tr th {\n",
       "        vertical-align: top;\n",
       "    }\n",
       "\n",
       "    .dataframe thead th {\n",
       "        text-align: right;\n",
       "    }\n",
       "</style>\n",
       "<table border=\"1\" class=\"dataframe\">\n",
       "  <thead>\n",
       "    <tr style=\"text-align: right;\">\n",
       "      <th></th>\n",
       "      <th>Age</th>\n",
       "      <th>SystolicBP</th>\n",
       "      <th>DiastolicBP</th>\n",
       "      <th>BS</th>\n",
       "      <th>BodyTemp</th>\n",
       "      <th>HeartRate</th>\n",
       "      <th>RiskLevel</th>\n",
       "    </tr>\n",
       "  </thead>\n",
       "  <tbody>\n",
       "    <tr>\n",
       "      <th>0</th>\n",
       "      <td>25</td>\n",
       "      <td>130</td>\n",
       "      <td>80</td>\n",
       "      <td>15.0</td>\n",
       "      <td>98.0</td>\n",
       "      <td>86</td>\n",
       "      <td>high risk</td>\n",
       "    </tr>\n",
       "    <tr>\n",
       "      <th>1</th>\n",
       "      <td>35</td>\n",
       "      <td>140</td>\n",
       "      <td>90</td>\n",
       "      <td>13.0</td>\n",
       "      <td>98.0</td>\n",
       "      <td>70</td>\n",
       "      <td>high risk</td>\n",
       "    </tr>\n",
       "    <tr>\n",
       "      <th>2</th>\n",
       "      <td>29</td>\n",
       "      <td>90</td>\n",
       "      <td>70</td>\n",
       "      <td>8.0</td>\n",
       "      <td>100.0</td>\n",
       "      <td>80</td>\n",
       "      <td>high risk</td>\n",
       "    </tr>\n",
       "    <tr>\n",
       "      <th>3</th>\n",
       "      <td>30</td>\n",
       "      <td>140</td>\n",
       "      <td>85</td>\n",
       "      <td>7.0</td>\n",
       "      <td>98.0</td>\n",
       "      <td>70</td>\n",
       "      <td>high risk</td>\n",
       "    </tr>\n",
       "    <tr>\n",
       "      <th>4</th>\n",
       "      <td>35</td>\n",
       "      <td>120</td>\n",
       "      <td>60</td>\n",
       "      <td>6.1</td>\n",
       "      <td>98.0</td>\n",
       "      <td>76</td>\n",
       "      <td>low risk</td>\n",
       "    </tr>\n",
       "  </tbody>\n",
       "</table>\n",
       "</div>"
      ],
      "text/plain": [
       "   Age  SystolicBP  DiastolicBP    BS  BodyTemp  HeartRate  RiskLevel\n",
       "0   25         130           80  15.0      98.0         86  high risk\n",
       "1   35         140           90  13.0      98.0         70  high risk\n",
       "2   29          90           70   8.0     100.0         80  high risk\n",
       "3   30         140           85   7.0      98.0         70  high risk\n",
       "4   35         120           60   6.1      98.0         76   low risk"
      ]
     },
     "execution_count": 83,
     "metadata": {},
     "output_type": "execute_result"
    }
   ],
   "source": [
    "df.head()"
   ]
  },
  {
   "cell_type": "code",
   "execution_count": 85,
   "id": "fdb0e551-ee17-4028-a36e-8bf1cf9f0521",
   "metadata": {},
   "outputs": [
    {
     "data": {
      "text/html": [
       "<div>\n",
       "<style scoped>\n",
       "    .dataframe tbody tr th:only-of-type {\n",
       "        vertical-align: middle;\n",
       "    }\n",
       "\n",
       "    .dataframe tbody tr th {\n",
       "        vertical-align: top;\n",
       "    }\n",
       "\n",
       "    .dataframe thead th {\n",
       "        text-align: right;\n",
       "    }\n",
       "</style>\n",
       "<table border=\"1\" class=\"dataframe\">\n",
       "  <thead>\n",
       "    <tr style=\"text-align: right;\">\n",
       "      <th></th>\n",
       "      <th>Age</th>\n",
       "      <th>SystolicBP</th>\n",
       "      <th>DiastolicBP</th>\n",
       "      <th>BS</th>\n",
       "      <th>BodyTemp</th>\n",
       "      <th>HeartRate</th>\n",
       "    </tr>\n",
       "  </thead>\n",
       "  <tbody>\n",
       "    <tr>\n",
       "      <th>0</th>\n",
       "      <td>25</td>\n",
       "      <td>130</td>\n",
       "      <td>80</td>\n",
       "      <td>15.0</td>\n",
       "      <td>98.0</td>\n",
       "      <td>86</td>\n",
       "    </tr>\n",
       "    <tr>\n",
       "      <th>1</th>\n",
       "      <td>35</td>\n",
       "      <td>140</td>\n",
       "      <td>90</td>\n",
       "      <td>13.0</td>\n",
       "      <td>98.0</td>\n",
       "      <td>70</td>\n",
       "    </tr>\n",
       "    <tr>\n",
       "      <th>2</th>\n",
       "      <td>29</td>\n",
       "      <td>90</td>\n",
       "      <td>70</td>\n",
       "      <td>8.0</td>\n",
       "      <td>100.0</td>\n",
       "      <td>80</td>\n",
       "    </tr>\n",
       "    <tr>\n",
       "      <th>3</th>\n",
       "      <td>30</td>\n",
       "      <td>140</td>\n",
       "      <td>85</td>\n",
       "      <td>7.0</td>\n",
       "      <td>98.0</td>\n",
       "      <td>70</td>\n",
       "    </tr>\n",
       "    <tr>\n",
       "      <th>4</th>\n",
       "      <td>35</td>\n",
       "      <td>120</td>\n",
       "      <td>60</td>\n",
       "      <td>6.1</td>\n",
       "      <td>98.0</td>\n",
       "      <td>76</td>\n",
       "    </tr>\n",
       "  </tbody>\n",
       "</table>\n",
       "</div>"
      ],
      "text/plain": [
       "   Age  SystolicBP  DiastolicBP    BS  BodyTemp  HeartRate\n",
       "0   25         130           80  15.0      98.0         86\n",
       "1   35         140           90  13.0      98.0         70\n",
       "2   29          90           70   8.0     100.0         80\n",
       "3   30         140           85   7.0      98.0         70\n",
       "4   35         120           60   6.1      98.0         76"
      ]
     },
     "execution_count": 85,
     "metadata": {},
     "output_type": "execute_result"
    }
   ],
   "source": [
    "df=df.drop(columns='RiskLevel',axis=1)\n",
    "df.head()"
   ]
  },
  {
   "cell_type": "code",
   "execution_count": 87,
   "id": "7d2f4340-f120-4b9b-a013-23e76aadadba",
   "metadata": {},
   "outputs": [
    {
     "data": {
      "text/plain": [
       "<matplotlib.collections.PathCollection at 0x24616bf7b30>"
      ]
     },
     "execution_count": 87,
     "metadata": {},
     "output_type": "execute_result"
    }
   ],
   "source": [
    "plt.scatter(df['Age'],df['HeartRate'],color='blue')"
   ]
  },
  {
   "cell_type": "code",
   "execution_count": 89,
   "id": "5f55a209-4da1-4c3f-a91f-f96ed11a61cf",
   "metadata": {},
   "outputs": [],
   "source": [
    "from sklearn.ensemble import IsolationForest"
   ]
  },
  {
   "cell_type": "code",
   "execution_count": 91,
   "id": "08df021f-025f-4d0e-8d3e-0a62fbf41798",
   "metadata": {},
   "outputs": [
    {
     "data": {
      "text/plain": [
       "array([ 1,  1,  1, ..., -1,  1,  1])"
      ]
     },
     "execution_count": 91,
     "metadata": {},
     "output_type": "execute_result"
    }
   ],
   "source": [
    "clf = IsolationForest(contamination=0.1)\n",
    "clf.fit(df)\n",
    "predictions = clf.predict(df)\n",
    "predictions"
   ]
  },
  {
   "cell_type": "code",
   "execution_count": 93,
   "id": "a4f7195e-815f-4da4-b8af-346f17736207",
   "metadata": {},
   "outputs": [
    {
     "data": {
      "text/plain": [
       "(array([   7,   19,   20,   35,  105,  108,  110,  111,  114,  117,  123,\n",
       "         127,  130,  137,  166,  180,  182,  191,  210,  232,  262,  275,\n",
       "         276,  278,  287,  312,  317,  319,  322,  326,  337,  338,  339,\n",
       "         340,  341,  362,  370,  373,  382,  413,  416,  417,  419,  422,\n",
       "         426,  428,  432,  435,  442,  458,  471,  482,  486,  502,  505,\n",
       "         506,  535,  538,  551,  554,  563,  583,  596,  599,  603,  612,\n",
       "         631,  638,  640,  658,  661,  666,  668,  669,  670,  672,  679,\n",
       "         683,  689,  787,  789,  834,  848,  849,  910,  928,  939,  948,\n",
       "         955,  961,  968,  970,  976,  982,  994, 1000, 1002, 1005, 1010,\n",
       "        1011], dtype=int64),)"
      ]
     },
     "execution_count": 93,
     "metadata": {},
     "output_type": "execute_result"
    }
   ],
   "source": [
    "import numpy as np\n",
    "abn_ind = np.where(predictions<0)\n",
    "abn_ind"
   ]
  },
  {
   "cell_type": "code",
   "execution_count": 95,
   "id": "801d4ce3-649e-43f3-b75f-ef4fb05859c2",
   "metadata": {},
   "outputs": [],
   "source": [
    "X = df.values"
   ]
  },
  {
   "cell_type": "code",
   "execution_count": 97,
   "id": "4d3efe94-eb6c-4753-9aad-73fded20dc73",
   "metadata": {},
   "outputs": [
    {
     "data": {
      "text/plain": [
       "<matplotlib.collections.PathCollection at 0x24617eeff20>"
      ]
     },
     "execution_count": 97,
     "metadata": {},
     "output_type": "execute_result"
    }
   ],
   "source": [
    "abn_ind = np.where(predictions<0)\n",
    "plt.scatter(df['Age'],df['HeartRate'])\n",
    "plt.scatter(X[abn_ind,0],X[abn_ind,1],color='red')"
   ]
  },
  {
   "cell_type": "code",
   "execution_count": null,
   "id": "373bb51e-c628-4f89-82a6-cff7d79ef099",
   "metadata": {},
   "outputs": [],
   "source": []
  },
  {
   "cell_type": "code",
   "execution_count": 100,
   "id": "2200bced-57b3-4ef6-9da1-fd48495e900e",
   "metadata": {},
   "outputs": [],
   "source": [
    "from sklearn.cluster import DBSCAN\n",
    "\n",
    "import matplotlib.pyplot as plt\n",
    "%matplotlib inline\n",
    "from sklearn.datasets import make_circles"
   ]
  },
  {
   "cell_type": "code",
   "execution_count": 102,
   "id": "5b6b2d49-1fa7-4268-97b0-b9fdc8502b1f",
   "metadata": {},
   "outputs": [
    {
     "data": {
      "text/plain": [
       "array([[ 0.18647724,  0.24108467],\n",
       "       [-0.07644232, -0.28833913],\n",
       "       [ 0.09803546, -0.38753465],\n",
       "       ...,\n",
       "       [ 0.00297494,  0.88095028],\n",
       "       [-0.16827501,  0.03285133],\n",
       "       [-1.04469608, -0.00436292]])"
      ]
     },
     "execution_count": 102,
     "metadata": {},
     "output_type": "execute_result"
    }
   ],
   "source": [
    "X,y = make_circles(n_samples=750,noise=0.1,factor=0.3)\n",
    "X"
   ]
  },
  {
   "cell_type": "code",
   "execution_count": 104,
   "id": "790aba14-af5e-410b-87d5-c657d5d7fae3",
   "metadata": {},
   "outputs": [
    {
     "data": {
      "text/plain": [
       "<matplotlib.collections.PathCollection at 0x24617f28680>"
      ]
     },
     "execution_count": 104,
     "metadata": {},
     "output_type": "execute_result"
    }
   ],
   "source": [
    "plt.scatter(X[:,0],X[:,1],c=y)"
   ]
  },
  {
   "cell_type": "code",
   "execution_count": 117,
   "id": "ab66be84-d2c9-4bc8-b552-23141dbffeb1",
   "metadata": {},
   "outputs": [],
   "source": [
    "from sklearn.cluster import DBSCAN\n",
    "\n",
    "import matplotlib.pyplot as plt\n",
    "%matplotlib inline\n",
    "from sklearn.datasets import make_circles"
   ]
  },
  {
   "cell_type": "code",
   "execution_count": 119,
   "id": "3dc7f80e-f2f4-48b1-a407-7eb47744b8cf",
   "metadata": {},
   "outputs": [
    {
     "data": {
      "text/plain": [
       "array([ 0,  0,  0,  1,  0,  1,  0,  0,  0,  0,  0,  2,  0,  1,  0,  3,  0,\n",
       "        4,  0,  4,  0,  0,  3,  5,  0, -1,  6,  0,  2,  4,  6,  0,  0,  6,\n",
       "        0,  3,  0,  3,  6,  1,  0,  0,  0,  1,  4,  0,  2,  0,  0,  5,  0,\n",
       "        0,  0,  0,  0,  0,  3,  0,  3, -1,  0,  1, -1,  4,  0,  0,  0,  0,\n",
       "        0,  2,  0,  4,  0,  0,  0,  0,  0,  0,  6,  4,  0,  0,  1,  6,  0,\n",
       "        5,  0,  2,  0,  4,  0,  4, -1,  0,  0,  4,  1,  1,  0,  0,  0,  0,\n",
       "        0,  0,  4,  0,  0,  4,  6,  0, -1, -1,  2,  0,  0,  2,  3,  3,  4,\n",
       "        1,  0,  0,  0,  2,  2,  2,  6,  5,  0,  0,  0,  2,  0,  2,  0,  0,\n",
       "        0,  2,  5,  0,  0, -1,  0,  6, -1,  2,  2,  2,  0,  0,  1,  3, -1,\n",
       "        0,  1,  3,  6,  0,  0,  0,  0,  7,  6,  2,  0,  0,  5,  1,  3,  6,\n",
       "        2,  0,  5,  0,  0,  0,  0,  0,  0,  0,  0,  2,  2,  2,  3,  0,  4,\n",
       "        0,  4,  4,  3,  0, -1,  0,  4,  0,  0,  0,  0,  4,  5,  0,  1,  1,\n",
       "        4,  0,  1,  1,  1,  0,  6,  0,  4,  0,  1,  3,  5,  0,  3,  0,  0,\n",
       "        0,  4,  3,  2,  4,  0,  4,  0,  1,  0,  0,  0,  4,  2,  0,  0,  0,\n",
       "        6,  0,  3,  0,  0,  0, -1,  0,  0,  0,  3,  3,  0,  4,  0,  0,  0,\n",
       "        0,  3,  3,  0,  4,  0,  4,  2,  3, -1,  0,  0,  1,  2,  0,  2,  3,\n",
       "        1,  4,  2,  0,  7,  4,  6,  1,  0,  2,  0,  5,  0,  0,  0,  0, -1,\n",
       "        0,  0,  0,  3,  0,  0,  0,  2,  0,  2,  7,  3,  1,  3, -1,  1,  0,\n",
       "        6,  0,  0,  2,  0,  0,  4,  2,  4,  0,  3,  0,  0,  0, -1, -1,  7,\n",
       "        3,  0,  0,  0, -1,  0,  0,  6,  0,  4,  4, -1,  0,  4, -1,  0,  7,\n",
       "        1,  0,  4,  0,  0,  4,  1, -1,  1,  0,  2,  1,  4,  0,  2,  2,  1,\n",
       "        4,  0,  0,  4,  5,  0,  0,  7,  0,  0,  2,  0,  0,  1,  2,  0,  6,\n",
       "        3,  2,  0,  0, -1,  1,  0, -1,  4,  6,  0,  2,  0,  3, -1,  0,  3,\n",
       "        3,  0,  0,  1,  0,  0,  0,  1,  0, -1,  3,  2,  4,  4,  0,  0,  0,\n",
       "        0,  2,  0,  0,  0,  1,  3,  0,  6,  6,  1,  3,  0,  0,  4,  4, -1,\n",
       "        4,  6,  4,  0,  0,  0,  6,  0,  0,  3,  4, -1,  3,  4,  0, -1,  0,\n",
       "        0,  0, -1,  0,  6,  0,  0,  2,  2,  5,  7, -1, -1,  6,  0,  0,  0,\n",
       "        0,  4,  0,  0,  0,  0,  3,  2,  0,  4,  1,  2,  4,  0,  6,  2,  0,\n",
       "       -1,  6,  0, -1,  0,  0,  0,  4,  0,  0,  4,  0,  0,  6,  1,  0,  3,\n",
       "        0,  6,  2,  0,  0,  0,  0,  0,  0,  2,  0, -1,  0,  2,  1,  0,  2,\n",
       "        4,  0,  3,  1,  4,  1,  0,  0,  6,  3,  1,  0,  2,  5,  0, -1,  1,\n",
       "        0,  0,  3,  0,  3,  0,  2,  4, -1,  2,  3,  4,  6, -1,  0,  0,  2,\n",
       "        0,  0,  2,  5,  0,  5,  0,  0,  0, -1,  2,  1, -1,  3,  2,  4,  4,\n",
       "        0,  2,  2,  4,  0,  4,  3,  0,  4,  2,  4,  4,  0,  7,  4,  2,  0,\n",
       "        0,  0,  6,  0,  4,  0,  0,  0,  0,  0,  2,  0, -1,  0,  0,  0,  6,\n",
       "        4,  0,  0,  0,  0,  0,  2,  0, -1,  0,  0, -1, -1, -1,  2,  0,  0,\n",
       "        2,  3,  0,  0,  0,  0,  2,  2,  0,  0,  0,  0,  2,  6,  0,  0,  0,\n",
       "        0,  0,  0,  2,  3,  0,  0,  6,  0,  2,  0,  0,  0,  6,  0,  1, -1,\n",
       "        4,  2,  4,  0,  4,  1,  1,  0,  0,  0,  4,  0,  2,  4,  0, -1,  4,\n",
       "        0,  0,  0,  0,  1,  2,  3,  0,  0,  2,  1,  2,  0,  0,  2,  4,  0,\n",
       "        0,  4,  0,  5,  2,  1,  0,  5,  0,  0,  0,  2,  0,  3,  0,  0,  0,\n",
       "        0,  6,  0,  0,  0,  0,  2,  0,  6,  0,  2,  6,  0,  0,  0,  2,  0,\n",
       "        1,  5, -1,  0,  4,  0,  0,  4,  0,  0,  0,  0,  2,  6,  0,  3,  0,\n",
       "        0,  0,  0,  0,  0,  0,  3,  0,  2,  6,  0,  6,  0,  7,  1,  0,  2,\n",
       "        0,  4], dtype=int64)"
      ]
     },
     "execution_count": 119,
     "metadata": {},
     "output_type": "execute_result"
    }
   ],
   "source": [
    "dbscan.labels_"
   ]
  },
  {
   "cell_type": "code",
   "execution_count": 115,
   "id": "f4b1e518-7cef-4e4d-b49c-8b8efcb392b4",
   "metadata": {},
   "outputs": [
    {
     "data": {
      "image/png": "[encoded data removed]",
      "text/plain": [
       "<Figure size 640x480 with 1 Axes>"
      ]
     },
     "metadata": {},
     "output_type": "display_data"
    }
   ],
   "source": [
    "plt.scatter(X[:,0],X[:,1],c=dbscan.labels_)\n"
   ]
  },
  {
   "cell_type": "code",
   "execution_count": 112,
   "id": "f1d8c7cf-1d75-448a-9059-f47aa1a584e8",
   "metadata": {},
   "outputs": [
    {
     "data": {
      "text/plain": [
       "<matplotlib.collections.PathCollection at 0x24617e97770>"
      ]
     },
     "execution_count": 112,
     "metadata": {},
     "output_type": "execute_result"
    }
   ],
   "source": [
    "plt.scatter(X[:,0],X[:,1],c=y)"
   ]
  },
  {
   "cell_type": "code",
   "execution_count": null,
   "id": "9a4b4c1c-2767-401c-a32b-7f6eb83ce866",
   "metadata": {},
   "outputs": [],
   "source": []
  },
  {
   "cell_type": "code",
   "execution_count": null,
   "id": "76c29a8f-0ab7-45cd-a36f-1d352d7e4368",
   "metadata": {},
   "outputs": [],
   "source": []
  }
 ],
 "metadata": {
  "kernelspec": {
   "display_name": "Python 3 (ipykernel)",
   "language": "python",
   "name": "python3"
  },
  "language_info": {
   "codemirror_mode": {
    "name": "ipython",
    "version": 3
   },
   "file_extension": ".py",
   "mimetype": "text/x-python",
   "name": "python",
   "nbconvert_exporter": "python",
   "pygments_lexer": "ipython3",
   "version": "3.12.7"
  }
 },
 "nbformat": 4,
 "nbformat_minor": 5
}
